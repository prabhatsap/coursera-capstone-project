{
    "cells": [
        {
            "cell_type": "code",
            "execution_count": 3,
            "metadata": {},
            "outputs": [
                {
                    "name": "stdout",
                    "output_type": "stream",
                    "text": "Collecting ipython-sql\n  Downloading https://files.pythonhosted.org/packages/ab/3d/0d38357c620df31cebb056ca1804027112e5c008f4c2c0e16d879996ad9f/ipython_sql-0.4.0-py3-none-any.whl\nRequirement already satisfied: six in /opt/conda/envs/Python36/lib/python3.6/site-packages (from ipython-sql) (1.12.0)\nCollecting prettytable<1 (from ipython-sql)\n  Downloading https://files.pythonhosted.org/packages/ef/30/4b0746848746ed5941f052479e7c23d2b56d174b82f4fd34a25e389831f5/prettytable-0.7.2.tar.bz2\nRequirement already satisfied: sqlalchemy>=0.6.7 in /opt/conda/envs/Python36/lib/python3.6/site-packages (from ipython-sql) (1.2.18)\nRequirement already satisfied: ipython-genutils>=0.1.0 in /opt/conda/envs/Python36/lib/python3.6/site-packages (from ipython-sql) (0.2.0)\nRequirement already satisfied: ipython>=1.0 in /opt/conda/envs/Python36/lib/python3.6/site-packages (from ipython-sql) (7.2.0)\nCollecting sqlparse (from ipython-sql)\n\u001b[?25l  Downloading https://files.pythonhosted.org/packages/85/ee/6e821932f413a5c4b76be9c5936e313e4fc626b33f16e027866e1d60f588/sqlparse-0.3.1-py2.py3-none-any.whl (40kB)\n\u001b[K     |\u2588\u2588\u2588\u2588\u2588\u2588\u2588\u2588\u2588\u2588\u2588\u2588\u2588\u2588\u2588\u2588\u2588\u2588\u2588\u2588\u2588\u2588\u2588\u2588\u2588\u2588\u2588\u2588\u2588\u2588\u2588\u2588| 40kB 4.4MB/s eta 0:00:01\n\u001b[?25hRequirement already satisfied: pickleshare in /opt/conda/envs/Python36/lib/python3.6/site-packages (from ipython>=1.0->ipython-sql) (0.7.5)\nRequirement already satisfied: decorator in /opt/conda/envs/Python36/lib/python3.6/site-packages (from ipython>=1.0->ipython-sql) (4.3.2)\nRequirement already satisfied: pygments in /opt/conda/envs/Python36/lib/python3.6/site-packages (from ipython>=1.0->ipython-sql) (2.3.1)\nRequirement already satisfied: setuptools>=18.5 in /opt/conda/envs/Python36/lib/python3.6/site-packages (from ipython>=1.0->ipython-sql) (40.8.0)\nRequirement already satisfied: pexpect; sys_platform != \"win32\" in /opt/conda/envs/Python36/lib/python3.6/site-packages (from ipython>=1.0->ipython-sql) (4.6.0)\nRequirement already satisfied: backcall in /opt/conda/envs/Python36/lib/python3.6/site-packages (from ipython>=1.0->ipython-sql) (0.1.0)\nRequirement already satisfied: traitlets>=4.2 in /opt/conda/envs/Python36/lib/python3.6/site-packages (from ipython>=1.0->ipython-sql) (4.3.2)\nRequirement already satisfied: jedi>=0.10 in /opt/conda/envs/Python36/lib/python3.6/site-packages (from ipython>=1.0->ipython-sql) (0.13.2)\nRequirement already satisfied: prompt-toolkit<2.1.0,>=2.0.0 in /opt/conda/envs/Python36/lib/python3.6/site-packages (from ipython>=1.0->ipython-sql) (2.0.8)\nRequirement already satisfied: ptyprocess>=0.5 in /opt/conda/envs/Python36/lib/python3.6/site-packages (from pexpect; sys_platform != \"win32\"->ipython>=1.0->ipython-sql) (0.6.0)\nRequirement already satisfied: parso>=0.3.0 in /opt/conda/envs/Python36/lib/python3.6/site-packages (from jedi>=0.10->ipython>=1.0->ipython-sql) (0.3.2)\nRequirement already satisfied: wcwidth in /opt/conda/envs/Python36/lib/python3.6/site-packages (from prompt-toolkit<2.1.0,>=2.0.0->ipython>=1.0->ipython-sql) (0.1.7)\nBuilding wheels for collected packages: prettytable\n  Building wheel for prettytable (setup.py) ... \u001b[?25ldone\n\u001b[?25h  Stored in directory: /home/dsxuser/.cache/pip/wheels/80/34/1c/3967380d9676d162cb59513bd9dc862d0584e045a162095606\nSuccessfully built prettytable\nInstalling collected packages: prettytable, sqlparse, ipython-sql\n\u001b[33m  WARNING: The script sqlformat is installed in '/home/dsxuser/.local/bin' which is not on PATH.\n  Consider adding this directory to PATH or, if you prefer to suppress this warning, use --no-warn-script-location.\u001b[0m\nSuccessfully installed ipython-sql-0.4.0 prettytable-0.7.2 sqlparse-0.3.1\n"
                }
            ],
            "source": "!pip install --user ipython-sql"
        },
        {
            "cell_type": "code",
            "execution_count": 4,
            "metadata": {},
            "outputs": [
                {
                    "name": "stdout",
                    "output_type": "stream",
                    "text": "Requirement already satisfied: ibm_db in /opt/conda/envs/Python36/lib/python3.6/site-packages (2.0.9)\r\n"
                }
            ],
            "source": "!pip install --user ibm_db"
        },
        {
            "cell_type": "code",
            "execution_count": 5,
            "metadata": {},
            "outputs": [
                {
                    "name": "stdout",
                    "output_type": "stream",
                    "text": "Requirement already satisfied: ibm_db_sa in /opt/conda/envs/Python36/lib/python3.6/site-packages (0.3.4)\nRequirement already satisfied: sqlalchemy>=0.7.3 in /opt/conda/envs/Python36/lib/python3.6/site-packages (from ibm_db_sa) (1.2.18)\nRequirement already satisfied: ibm-db>=2.0.0 in /opt/conda/envs/Python36/lib/python3.6/site-packages (from ibm_db_sa) (2.0.9)\n"
                }
            ],
            "source": "!pip install --user ibm_db_sa"
        },
        {
            "cell_type": "code",
            "execution_count": 6,
            "metadata": {},
            "outputs": [],
            "source": "%load_ext sql"
        },
        {
            "cell_type": "code",
            "execution_count": 32,
            "metadata": {},
            "outputs": [],
            "source": "#sql ibm_db_sa://my-username:my-password@my-hostname:my-port/my-db-name\n\n%sql ibm_db_sa://tgt81683:d+wrr0mnbm6g95kx@dashdb-txn-sbox-yp-dal09-04.services.dal.bluemix.net:50000/BLUDB"
        },
        {
            "cell_type": "code",
            "execution_count": 33,
            "metadata": {},
            "outputs": [
                {
                    "name": "stdout",
                    "output_type": "stream",
                    "text": " * ibm_db_sa://tgt81683:***@dashdb-txn-sbox-yp-dal09-04.services.dal.bluemix.net:50000/BLUDB\nDone.\n"
                },
                {
                    "data": {
                        "text/html": "<table>\n    <tr>\n        <th>1</th>\n    </tr>\n    <tr>\n        <td>533</td>\n    </tr>\n</table>",
                        "text/plain": "[(Decimal('533'),)]"
                    },
                    "execution_count": 33,
                    "metadata": {},
                    "output_type": "execute_result"
                }
            ],
            "source": "# Problem 1: Find the total number of crimes recorded in the CRIME table\n%sql select count(*) from chicago_crime_data"
        },
        {
            "cell_type": "code",
            "execution_count": 34,
            "metadata": {},
            "outputs": [
                {
                    "name": "stdout",
                    "output_type": "stream",
                    "text": " * ibm_db_sa://tgt81683:***@dashdb-txn-sbox-yp-dal09-04.services.dal.bluemix.net:50000/BLUDB\nDone.\n"
                },
                {
                    "data": {
                        "text/html": "<table>\n    <tr>\n        <th>id</th>\n        <th>case_number</th>\n        <th>DATE</th>\n        <th>block</th>\n        <th>iucr</th>\n        <th>primary_type</th>\n        <th>description</th>\n        <th>location_description</th>\n        <th>arrest</th>\n        <th>domestic</th>\n        <th>beat</th>\n        <th>district</th>\n        <th>ward</th>\n        <th>community_area_number</th>\n        <th>fbicode</th>\n        <th>x_coordinate</th>\n        <th>y_coordinate</th>\n        <th>YEAR</th>\n        <th>updatedon</th>\n        <th>latitude</th>\n        <th>longitude</th>\n        <th>location</th>\n    </tr>\n    <tr>\n        <td>3512276</td>\n        <td>HK587712</td>\n        <td>08/28/2004 05:50:56 PM</td>\n        <td>047XX S KEDZIE AVE</td>\n        <td>890</td>\n        <td>THEFT</td>\n        <td>FROM BUILDING</td>\n        <td>SMALL RETAIL STORE</td>\n        <td>FALSE</td>\n        <td>FALSE</td>\n        <td>911</td>\n        <td>9</td>\n        <td>14</td>\n        <td>58</td>\n        <td>6</td>\n        <td>1155838</td>\n        <td>1873050</td>\n        <td>2004</td>\n        <td>02/10/2018 03:50:01 PM</td>\n        <td>41.80744050</td>\n        <td>-87.70395585</td>\n        <td>(41.8074405, -87.703955849)</td>\n    </tr>\n    <tr>\n        <td>3406613</td>\n        <td>HK456306</td>\n        <td>06/26/2004 12:40:00 PM</td>\n        <td>009XX N CENTRAL PARK AVE</td>\n        <td>820</td>\n        <td>THEFT</td>\n        <td>$500 AND UNDER</td>\n        <td>OTHER</td>\n        <td>FALSE</td>\n        <td>FALSE</td>\n        <td>1112</td>\n        <td>11</td>\n        <td>27</td>\n        <td>23</td>\n        <td>6</td>\n        <td>1152206</td>\n        <td>1906127</td>\n        <td>2004</td>\n        <td>02/28/2018 03:56:25 PM</td>\n        <td>41.89827996</td>\n        <td>-87.71640551</td>\n        <td>(41.898279962, -87.716405505)</td>\n    </tr>\n    <tr>\n        <td>8002131</td>\n        <td>HT233595</td>\n        <td>04/04/2011 05:45:00 AM</td>\n        <td>043XX S WABASH AVE</td>\n        <td>820</td>\n        <td>THEFT</td>\n        <td>$500 AND UNDER</td>\n        <td>NURSING HOME/RETIREMENT HOME</td>\n        <td>FALSE</td>\n        <td>FALSE</td>\n        <td>221</td>\n        <td>2</td>\n        <td>3</td>\n        <td>38</td>\n        <td>6</td>\n        <td>1177436</td>\n        <td>1876313</td>\n        <td>2011</td>\n        <td>02/10/2018 03:50:01 PM</td>\n        <td>41.81593313</td>\n        <td>-87.62464213</td>\n        <td>(41.815933131, -87.624642127)</td>\n    </tr>\n    <tr>\n        <td>7903289</td>\n        <td>HT133522</td>\n        <td>12/30/2010 04:30:00 PM</td>\n        <td>083XX S KINGSTON AVE</td>\n        <td>840</td>\n        <td>THEFT</td>\n        <td>FINANCIAL ID THEFT: OVER $300</td>\n        <td>RESIDENCE</td>\n        <td>FALSE</td>\n        <td>FALSE</td>\n        <td>423</td>\n        <td>4</td>\n        <td>7</td>\n        <td>46</td>\n        <td>6</td>\n        <td>1194622</td>\n        <td>1850125</td>\n        <td>2010</td>\n        <td>02/10/2018 03:50:01 PM</td>\n        <td>41.74366532</td>\n        <td>-87.56246276</td>\n        <td>(41.743665322, -87.562462756)</td>\n    </tr>\n    <tr>\n        <td>10402076</td>\n        <td>HZ138551</td>\n        <td>02/02/2016 07:30:00 PM</td>\n        <td>033XX W 66TH ST</td>\n        <td>820</td>\n        <td>THEFT</td>\n        <td>$500 AND UNDER</td>\n        <td>ALLEY</td>\n        <td>FALSE</td>\n        <td>FALSE</td>\n        <td>831</td>\n        <td>8</td>\n        <td>15</td>\n        <td>66</td>\n        <td>6</td>\n        <td>1155240</td>\n        <td>1860661</td>\n        <td>2016</td>\n        <td>02/10/2018 03:50:01 PM</td>\n        <td>41.77345530</td>\n        <td>-87.70648047</td>\n        <td>(41.773455295, -87.706480471)</td>\n    </tr>\n    <tr>\n        <td>7732712</td>\n        <td>HS540106</td>\n        <td>09/29/2010 07:59:00 AM</td>\n        <td>006XX W CHICAGO AVE</td>\n        <td>810</td>\n        <td>THEFT</td>\n        <td>OVER $500</td>\n        <td>PARKING LOT/GARAGE(NON.RESID.)</td>\n        <td>FALSE</td>\n        <td>FALSE</td>\n        <td>1323</td>\n        <td>12</td>\n        <td>27</td>\n        <td>24</td>\n        <td>6</td>\n        <td>1171668</td>\n        <td>1905607</td>\n        <td>2010</td>\n        <td>02/10/2018 03:50:01 PM</td>\n        <td>41.89644677</td>\n        <td>-87.64493868</td>\n        <td>(41.896446772, -87.644938678)</td>\n    </tr>\n    <tr>\n        <td>10769475</td>\n        <td>HZ534771</td>\n        <td>11/30/2016 01:15:00 AM</td>\n        <td>050XX N KEDZIE AVE</td>\n        <td>810</td>\n        <td>THEFT</td>\n        <td>OVER $500</td>\n        <td>STREET</td>\n        <td>FALSE</td>\n        <td>FALSE</td>\n        <td>1713</td>\n        <td>17</td>\n        <td>33</td>\n        <td>14</td>\n        <td>6</td>\n        <td>1154133</td>\n        <td>1933314</td>\n        <td>2016</td>\n        <td>02/10/2018 03:50:01 PM</td>\n        <td>41.97284491</td>\n        <td>-87.70860008</td>\n        <td>(41.972844913, -87.708600079)</td>\n    </tr>\n    <tr>\n        <td>4494340</td>\n        <td>HL793243</td>\n        <td>12/16/2005 04:45:00 PM</td>\n        <td>005XX E PERSHING RD</td>\n        <td>860</td>\n        <td>THEFT</td>\n        <td>RETAIL THEFT</td>\n        <td>GROCERY FOOD STORE</td>\n        <td>TRUE</td>\n        <td>FALSE</td>\n        <td>213</td>\n        <td>2</td>\n        <td>3</td>\n        <td>38</td>\n        <td>6</td>\n        <td>1180448</td>\n        <td>1879234</td>\n        <td>2005</td>\n        <td>02/28/2018 03:56:25 PM</td>\n        <td>41.82387989</td>\n        <td>-87.61350386</td>\n        <td>(41.823879885, -87.613503857)</td>\n    </tr>\n    <tr>\n        <td>3778925</td>\n        <td>HL149610</td>\n        <td>01/28/2005 05:00:00 PM</td>\n        <td>100XX S WASHTENAW AVE</td>\n        <td>810</td>\n        <td>THEFT</td>\n        <td>OVER $500</td>\n        <td>STREET</td>\n        <td>FALSE</td>\n        <td>FALSE</td>\n        <td>2211</td>\n        <td>22</td>\n        <td>19</td>\n        <td>72</td>\n        <td>6</td>\n        <td>1160129</td>\n        <td>1838040</td>\n        <td>2005</td>\n        <td>02/28/2018 03:56:25 PM</td>\n        <td>41.71128051</td>\n        <td>-87.68917910</td>\n        <td>(41.711280513, -87.689179097)</td>\n    </tr>\n    <tr>\n        <td>3324217</td>\n        <td>HK361551</td>\n        <td>05/13/2004 02:15:00 PM</td>\n        <td>033XX W BELMONT AVE</td>\n        <td>820</td>\n        <td>THEFT</td>\n        <td>$500 AND UNDER</td>\n        <td>SMALL RETAIL STORE</td>\n        <td>FALSE</td>\n        <td>FALSE</td>\n        <td>1733</td>\n        <td>17</td>\n        <td>35</td>\n        <td>21</td>\n        <td>6</td>\n        <td>1153590</td>\n        <td>1921084</td>\n        <td>2004</td>\n        <td>02/28/2018 03:56:25 PM</td>\n        <td>41.93929582</td>\n        <td>-87.71092344</td>\n        <td>(41.939295821, -87.710923442)</td>\n    </tr>\n</table>",
                        "text/plain": "[(3512276, 'HK587712', '08/28/2004 05:50:56 PM', '047XX S KEDZIE AVE', '890', 'THEFT', 'FROM BUILDING', 'SMALL RETAIL STORE', 'FALSE', 'FALSE', 911, 9, 14, 58, '6', 1155838, 1873050, 2004, '02/10/2018 03:50:01 PM', Decimal('41.80744050'), Decimal('-87.70395585'), '(41.8074405, -87.703955849)'),\n (3406613, 'HK456306', '06/26/2004 12:40:00 PM', '009XX N CENTRAL PARK AVE', '820', 'THEFT', '$500 AND UNDER', 'OTHER', 'FALSE', 'FALSE', 1112, 11, 27, 23, '6', 1152206, 1906127, 2004, '02/28/2018 03:56:25 PM', Decimal('41.89827996'), Decimal('-87.71640551'), '(41.898279962, -87.716405505)'),\n (8002131, 'HT233595', '04/04/2011 05:45:00 AM', '043XX S WABASH AVE', '820', 'THEFT', '$500 AND UNDER', 'NURSING HOME/RETIREMENT HOME', 'FALSE', 'FALSE', 221, 2, 3, 38, '6', 1177436, 1876313, 2011, '02/10/2018 03:50:01 PM', Decimal('41.81593313'), Decimal('-87.62464213'), '(41.815933131, -87.624642127)'),\n (7903289, 'HT133522', '12/30/2010 04:30:00 PM', '083XX S KINGSTON AVE', '840', 'THEFT', 'FINANCIAL ID THEFT: OVER $300', 'RESIDENCE', 'FALSE', 'FALSE', 423, 4, 7, 46, '6', 1194622, 1850125, 2010, '02/10/2018 03:50:01 PM', Decimal('41.74366532'), Decimal('-87.56246276'), '(41.743665322, -87.562462756)'),\n (10402076, 'HZ138551', '02/02/2016 07:30:00 PM', '033XX W 66TH ST', '820', 'THEFT', '$500 AND UNDER', 'ALLEY', 'FALSE', 'FALSE', 831, 8, 15, 66, '6', 1155240, 1860661, 2016, '02/10/2018 03:50:01 PM', Decimal('41.77345530'), Decimal('-87.70648047'), '(41.773455295, -87.706480471)'),\n (7732712, 'HS540106', '09/29/2010 07:59:00 AM', '006XX W CHICAGO AVE', '810', 'THEFT', 'OVER $500', 'PARKING LOT/GARAGE(NON.RESID.)', 'FALSE', 'FALSE', 1323, 12, 27, 24, '6', 1171668, 1905607, 2010, '02/10/2018 03:50:01 PM', Decimal('41.89644677'), Decimal('-87.64493868'), '(41.896446772, -87.644938678)'),\n (10769475, 'HZ534771', '11/30/2016 01:15:00 AM', '050XX N KEDZIE AVE', '810', 'THEFT', 'OVER $500', 'STREET', 'FALSE', 'FALSE', 1713, 17, 33, 14, '6', 1154133, 1933314, 2016, '02/10/2018 03:50:01 PM', Decimal('41.97284491'), Decimal('-87.70860008'), '(41.972844913, -87.708600079)'),\n (4494340, 'HL793243', '12/16/2005 04:45:00 PM', '005XX E PERSHING RD', '860', 'THEFT', 'RETAIL THEFT', 'GROCERY FOOD STORE', 'TRUE', 'FALSE', 213, 2, 3, 38, '6', 1180448, 1879234, 2005, '02/28/2018 03:56:25 PM', Decimal('41.82387989'), Decimal('-87.61350386'), '(41.823879885, -87.613503857)'),\n (3778925, 'HL149610', '01/28/2005 05:00:00 PM', '100XX S WASHTENAW AVE', '810', 'THEFT', 'OVER $500', 'STREET', 'FALSE', 'FALSE', 2211, 22, 19, 72, '6', 1160129, 1838040, 2005, '02/28/2018 03:56:25 PM', Decimal('41.71128051'), Decimal('-87.68917910'), '(41.711280513, -87.689179097)'),\n (3324217, 'HK361551', '05/13/2004 02:15:00 PM', '033XX W BELMONT AVE', '820', 'THEFT', '$500 AND UNDER', 'SMALL RETAIL STORE', 'FALSE', 'FALSE', 1733, 17, 35, 21, '6', 1153590, 1921084, 2004, '02/28/2018 03:56:25 PM', Decimal('41.93929582'), Decimal('-87.71092344'), '(41.939295821, -87.710923442)')]"
                    },
                    "execution_count": 34,
                    "metadata": {},
                    "output_type": "execute_result"
                }
            ],
            "source": "# Problem 2 : Retrieve first 10 rows from the CRIME table\n\n%sql select * from chicago_crime_data limit 10"
        },
        {
            "cell_type": "code",
            "execution_count": 35,
            "metadata": {},
            "outputs": [
                {
                    "name": "stdout",
                    "output_type": "stream",
                    "text": " * ibm_db_sa://tgt81683:***@dashdb-txn-sbox-yp-dal09-04.services.dal.bluemix.net:50000/BLUDB\nDone.\n"
                },
                {
                    "data": {
                        "text/html": "<table>\n    <tr>\n        <th>1</th>\n    </tr>\n    <tr>\n        <td>163</td>\n    </tr>\n</table>",
                        "text/plain": "[(Decimal('163'),)]"
                    },
                    "execution_count": 35,
                    "metadata": {},
                    "output_type": "execute_result"
                }
            ],
            "source": "# Problem 3 : How many crimes involve an arrest?\n%sql select count(*) from chicago_crime_data where ARREST = 'TRUE'"
        },
        {
            "cell_type": "code",
            "execution_count": 36,
            "metadata": {},
            "outputs": [
                {
                    "name": "stdout",
                    "output_type": "stream",
                    "text": " * ibm_db_sa://tgt81683:***@dashdb-txn-sbox-yp-dal09-04.services.dal.bluemix.net:50000/BLUDB\nDone.\n"
                },
                {
                    "data": {
                        "text/html": "<table>\n    <tr>\n        <th>primary_type</th>\n    </tr>\n    <tr>\n        <td>CRIMINAL TRESPASS</td>\n    </tr>\n    <tr>\n        <td>NARCOTICS</td>\n    </tr>\n    <tr>\n        <td>ROBBERY</td>\n    </tr>\n    <tr>\n        <td>THEFT</td>\n    </tr>\n</table>",
                        "text/plain": "[('CRIMINAL TRESPASS',), ('NARCOTICS',), ('ROBBERY',), ('THEFT',)]"
                    },
                    "execution_count": 36,
                    "metadata": {},
                    "output_type": "execute_result"
                }
            ],
            "source": "# Problem 4: Which unique types of crimes have been recorded at GAS STATION locations?\n\n%sql select distinct(PRIMARY_TYPE) from chicago_crime_data where LOCATION_DESCRIPTION = 'GAS STATION'"
        },
        {
            "cell_type": "code",
            "execution_count": 37,
            "metadata": {},
            "outputs": [
                {
                    "name": "stdout",
                    "output_type": "stream",
                    "text": " * ibm_db_sa://tgt81683:***@dashdb-txn-sbox-yp-dal09-04.services.dal.bluemix.net:50000/BLUDB\nDone.\n"
                },
                {
                    "data": {
                        "text/html": "<table>\n    <tr>\n        <th>community_area_name</th>\n    </tr>\n    <tr>\n        <td>Belmont Cragin</td>\n    </tr>\n    <tr>\n        <td>Burnside</td>\n    </tr>\n    <tr>\n        <td>Brighton Park</td>\n    </tr>\n    <tr>\n        <td>Bridgeport</td>\n    </tr>\n    <tr>\n        <td>Beverly</td>\n    </tr>\n</table>",
                        "text/plain": "[('Belmont Cragin',),\n ('Burnside',),\n ('Brighton Park',),\n ('Bridgeport',),\n ('Beverly',)]"
                    },
                    "execution_count": 37,
                    "metadata": {},
                    "output_type": "execute_result"
                }
            ],
            "source": "#Problem 5: In the CENUS_DATA table list all Community Areas whose names start with the letter \u2018B\u2019.\n\n%sql select COMMUNITY_AREA_NAME from census_data where COMMUNITY_AREA_NAME like 'B%'"
        },
        {
            "cell_type": "code",
            "execution_count": 38,
            "metadata": {},
            "outputs": [
                {
                    "name": "stdout",
                    "output_type": "stream",
                    "text": " * ibm_db_sa://tgt81683:***@dashdb-txn-sbox-yp-dal09-04.services.dal.bluemix.net:50000/BLUDB\nDone.\n"
                },
                {
                    "data": {
                        "text/html": "<table>\n    <tr>\n        <th>name_of_school</th>\n    </tr>\n    <tr>\n        <td>Rufus M Hitch Elementary School</td>\n    </tr>\n</table>",
                        "text/plain": "[('Rufus M Hitch Elementary School',)]"
                    },
                    "execution_count": 38,
                    "metadata": {},
                    "output_type": "execute_result"
                }
            ],
            "source": "# Problem 6 : Which schools in Community Areas 10 to 15 are healthy school certified?\n\n%sql select NAME_OF_SCHOOL from chicago_public_schools where COMMUNITY_AREA_NUMBER between 10 and 15 and HEALTHY_SCHOOL_CERTIFIED = 'Yes'"
        },
        {
            "cell_type": "code",
            "execution_count": 39,
            "metadata": {},
            "outputs": [
                {
                    "name": "stdout",
                    "output_type": "stream",
                    "text": " * ibm_db_sa://tgt81683:***@dashdb-txn-sbox-yp-dal09-04.services.dal.bluemix.net:50000/BLUDB\nDone.\n"
                },
                {
                    "data": {
                        "text/html": "<table>\n    <tr>\n        <th>avg_safety_score</th>\n    </tr>\n    <tr>\n        <td>49.504873</td>\n    </tr>\n</table>",
                        "text/plain": "[(Decimal('49.504873'),)]"
                    },
                    "execution_count": 39,
                    "metadata": {},
                    "output_type": "execute_result"
                }
            ],
            "source": "# Problem 7: What is the average school Safety Score?\n\n%sql select avg(SAFETY_SCORE) as avg_safety_score from chicago_public_schools;"
        },
        {
            "cell_type": "code",
            "execution_count": 40,
            "metadata": {},
            "outputs": [
                {
                    "name": "stdout",
                    "output_type": "stream",
                    "text": " * ibm_db_sa://tgt81683:***@dashdb-txn-sbox-yp-dal09-04.services.dal.bluemix.net:50000/BLUDB\nDone.\n"
                },
                {
                    "data": {
                        "text/html": "<table>\n    <tr>\n        <th>community_area_name</th>\n        <th>avg_clg_enrollment</th>\n    </tr>\n    <tr>\n        <td>ARCHER HEIGHTS</td>\n        <td>2411.500000</td>\n    </tr>\n    <tr>\n        <td>MONTCLARE</td>\n        <td>1317.000000</td>\n    </tr>\n    <tr>\n        <td>WEST ELSDON</td>\n        <td>1233.333333</td>\n    </tr>\n    <tr>\n        <td>BRIGHTON PARK</td>\n        <td>1205.875000</td>\n    </tr>\n    <tr>\n        <td>BELMONT CRAGIN</td>\n        <td>1198.833333</td>\n    </tr>\n</table>",
                        "text/plain": "[('ARCHER HEIGHTS', Decimal('2411.500000')),\n ('MONTCLARE', Decimal('1317.000000')),\n ('WEST ELSDON', Decimal('1233.333333')),\n ('BRIGHTON PARK', Decimal('1205.875000')),\n ('BELMONT CRAGIN', Decimal('1198.833333'))]"
                    },
                    "execution_count": 40,
                    "metadata": {},
                    "output_type": "execute_result"
                }
            ],
            "source": "# Problem 8: List the top 5 Community Areas by average College Enrollment [number of students]\n\n%sql select COMMUNITY_AREA_NAME, avg(COLLEGE_ENROLLMENT) as AVG_CLG_ENROLLMENT from chicago_public_schools group by COMMUNITY_AREA_NAME order by AVG_CLG_ENROLLMENT desc limit 5"
        },
        {
            "cell_type": "code",
            "execution_count": 41,
            "metadata": {},
            "outputs": [
                {
                    "name": "stdout",
                    "output_type": "stream",
                    "text": " * ibm_db_sa://tgt81683:***@dashdb-txn-sbox-yp-dal09-04.services.dal.bluemix.net:50000/BLUDB\nDone.\n"
                },
                {
                    "data": {
                        "text/html": "<table>\n    <tr>\n        <th>community_area_name</th>\n        <th>community_area_number</th>\n        <th>name_of_school</th>\n        <th>safety_score</th>\n    </tr>\n    <tr>\n        <td>WASHINGTON PARK</td>\n        <td>40</td>\n        <td>Edmond Burke Elementary School</td>\n        <td>1</td>\n    </tr>\n</table>",
                        "text/plain": "[('WASHINGTON PARK', 40, 'Edmond Burke Elementary School', 1)]"
                    },
                    "execution_count": 41,
                    "metadata": {},
                    "output_type": "execute_result"
                }
            ],
            "source": "# Problem 9 : Use a sub-query to determine which Community Area has the least value for school Safety Score?\n\n%sql select COMMUNITY_AREA_NAME,COMMUNITY_AREA_NUMBER,NAME_OF_SCHOOL,SAFETY_SCORE from chicago_public_schools where SAFETY_SCORE = (select MIN(SAFETY_SCORE) from chicago_public_schools);"
        },
        {
            "cell_type": "code",
            "execution_count": 42,
            "metadata": {},
            "outputs": [
                {
                    "name": "stdout",
                    "output_type": "stream",
                    "text": " * ibm_db_sa://tgt81683:***@dashdb-txn-sbox-yp-dal09-04.services.dal.bluemix.net:50000/BLUDB\nDone.\n"
                },
                {
                    "data": {
                        "text/html": "<table>\n    <tr>\n        <th>per_capita_income</th>\n        <th>community_area_name</th>\n        <th>community_area_number</th>\n        <th>safety_score</th>\n    </tr>\n    <tr>\n        <td>13785</td>\n        <td>WASHINGTON PARK</td>\n        <td>40</td>\n        <td>1</td>\n    </tr>\n</table>",
                        "text/plain": "[(13785, 'WASHINGTON PARK', 40, 1)]"
                    },
                    "execution_count": 42,
                    "metadata": {},
                    "output_type": "execute_result"
                }
            ],
            "source": "# Problem 10 : [Without using an explicit JOIN operator] Find the Per Capita Income of the Community Area which has a school Safety Score of 1.\n\n%sql select CD.PER_CAPITA_INCOME,CPS.COMMUNITY_AREA_NAME,CPS.COMMUNITY_AREA_NUMBER,CPS.SAFETY_SCORE from census_data CD, chicago_public_schools CPS where CD.COMMUNITY_AREA_NUMBER = CPS.COMMUNITY_AREA_NUMBER and CPS.SAFETY_SCORE= '1';"
        },
        {
            "cell_type": "code",
            "execution_count": null,
            "metadata": {},
            "outputs": [],
            "source": ""
        }
    ],
    "metadata": {
        "kernelspec": {
            "display_name": "Python 3.6",
            "language": "python",
            "name": "python3"
        },
        "language_info": {
            "codemirror_mode": {
                "name": "ipython",
                "version": 3
            },
            "file_extension": ".py",
            "mimetype": "text/x-python",
            "name": "python",
            "nbconvert_exporter": "python",
            "pygments_lexer": "ipython3",
            "version": "3.6.9"
        }
    },
    "nbformat": 4,
    "nbformat_minor": 1
}