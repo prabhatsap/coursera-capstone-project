{
    "cells": [
        {
            "cell_type": "markdown",
            "metadata": {
                "collapsed": true
            },
            "source": "## Capstone Project - The Battle of the Neighborhoods"
        },
        {
            "cell_type": "markdown",
            "metadata": {},
            "source": "### Applied Data Science Capstone Project"
        },
        {
            "cell_type": "markdown",
            "metadata": {},
            "source": "## Table of contents\n* [Introduction: Business Problem](#introduction)\n* [Data](#data)\n* [Methodology](#methodology)\n* [Analysis](#analysis)\n* [Results and Discussion](#results)\n* [Conclusion](#conclusion)"
        },
        {
            "cell_type": "markdown",
            "metadata": {},
            "source": "## Introduction: Business Problem <a name=\"introduction\"></a>"
        },
        {
            "cell_type": "markdown",
            "metadata": {},
            "source": "This project aims to select the safest borough in London based on the **total crimes**, explore the **neighborhoods** of that borough to find the **10 most common venues** in each neighborhood and finally cluster the neighborhoods using **k-mean clustering**.\n\nThis report will be targeted to people who are looking to **relocate to London**. Inorder to finalise a neighborhood to hunt for an apartment, **safety** is considered as a top concern when moving to a new place. If you don\u2019t feel safe in your own home, you\u2019re not going to be able to enjoy living there. The **crime statistics** will provide an insight into this issue.\n\nWe will focus on the safest borough and explore its neighborhoods and the 10 most common venues in each neighborhood so that the best neighborhood suited to an individual's needs can be selected."
        },
        {
            "cell_type": "markdown",
            "metadata": {},
            "source": "## Data <a name=\"data\"></a>\n\nBased on definition of our problem, factors that will influence our decision are:\n* The total number of crimes commited in each of the borough during the last year.\n* The most common venues in each of the neighborhood in the safest borough selected.\n\nFollowing data sources will be needed to extract/generate the required information:\n\n- [**Part 1**: Preprocessing a real world data set from Kaggle showing the London Crimes from 2008 to 2016](#part1):  A dataset consisting of the crime statistics of each borough in London obtained from Kaggle\n- [**Part 2**: Scraping additional information of the different Boroughs in London from a Wikipedia page.](#part2): More information regarding the boroughs of London is scraped using the Beautifulsoup library\n- [**Part 3**: Creating a new dataset of the Neighborhoods of the safest borough in London and generating their co-ordinates.](#part3): Co-ordinate of neighborhood will be obtained using **Google Maps API geocoding**"
        },
        {
            "cell_type": "markdown",
            "metadata": {},
            "source": "### Part 1: Preprocessing a real world data set from Kaggle showing the London Crimes from 2008 to 2016<a name=\"part1\"></a>\n"
        },
        {
            "cell_type": "markdown",
            "metadata": {},
            "source": "####  London Crime Data "
        },
        {
            "cell_type": "markdown",
            "metadata": {},
            "source": "About this file\n- lsoa_code: code for Lower Super Output Area in Greater London.\n- borough: Common name for London borough.\n- major_category: High level categorization of crime\n- minor_category: Low level categorization of crime within major category.\n- value: monthly reported count of categorical crime in given borough\n- year: Year of reported counts, 2008-2016\n- month: Month of reported counts, 1-12\n\nData set URL: https://www.kaggle.com/jboysen/london-crime"
        },
        {
            "cell_type": "code",
            "execution_count": null,
            "metadata": {},
            "outputs": [],
            "source": ""
        }
    ],
    "metadata": {
        "kernelspec": {
            "display_name": "Python 3.6",
            "language": "python",
            "name": "python3"
        },
        "language_info": {
            "codemirror_mode": {
                "name": "ipython",
                "version": 3
            },
            "file_extension": ".py",
            "mimetype": "text/x-python",
            "name": "python",
            "nbconvert_exporter": "python",
            "pygments_lexer": "ipython3",
            "version": "3.6.9"
        }
    },
    "nbformat": 4,
    "nbformat_minor": 1
}