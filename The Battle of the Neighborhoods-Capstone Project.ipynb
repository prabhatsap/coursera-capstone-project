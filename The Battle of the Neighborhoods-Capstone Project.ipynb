{
    "cells": [
        {
            "cell_type": "markdown",
            "metadata": {
                "collapsed": true
            },
            "source": "## Capstone Project - The Battle of the Neighborhoods"
        },
        {
            "cell_type": "markdown",
            "metadata": {},
            "source": "### Applied Data Science Capstone Project"
        },
        {
            "cell_type": "markdown",
            "metadata": {},
            "source": "## Table of contents\n* [Introduction: Business Problem](#introduction)\n* [Data](#data)\n* [Methodology](#methodology)\n* [Analysis](#analysis)\n* [Results and Discussion](#results)\n* [Conclusion](#conclusion)"
        },
        {
            "cell_type": "markdown",
            "metadata": {},
            "source": "## Introduction: Business Problem <a name=\"introduction\"></a>"
        },
        {
            "cell_type": "markdown",
            "metadata": {},
            "source": "**Problem Description:** Due to crime rate in london , how do we determine which  borough in London will be the safest for staying?\n\nOur objective for this assignment is to find the safest borough in London based on the **total crimes**, explore the **neighborhoods** of that borough to find the **10 most common venues** in each neighborhood and finally cluster the neighborhoods using **k-mean clustering**."
        },
        {
            "cell_type": "markdown",
            "metadata": {},
            "source": "**Target Audience:** The target audience for the report will be the people who are looking to relocate to London or looking for safest borough in London. Inorder to finalise a neighborhood to hunt for an apartment, safety is considered as a top concern when moving to a new place. The crime statistics will provide an insight into this issue."
        },
        {
            "cell_type": "markdown",
            "metadata": {},
            "source": "## Data <a name=\"data\"></a>\n\nBased on definition of our problem, factors that will influence our decision are:\n* The total number of crimes commited in each of the borough during the last year.\n* The most common venues in each of the neighborhood in the safest borough selected.\n\nFollowing data sources will be needed to extract/generate the required information:\n\n- [**Part 1**: Preprocessing a real world data set from Kaggle showing the London Crimes from 2008 to 2016](#part1):  A dataset consisting of the crime statistics of each borough in London obtained from Kaggle\n- [**Part 2**: Scraping additional information of the different Boroughs in London from a Wikipedia page.](#part2): More information regarding the boroughs of London is scraped using the Beautifulsoup library\n- [**Part 3**: Creating a new dataset of the Neighborhoods of the safest borough in London and generating their co-ordinates.](#part3): Co-ordinate of neighborhood will be obtained using **Google Maps API geocoding**"
        },
        {
            "cell_type": "markdown",
            "metadata": {},
            "source": "### Part 1: Preprocessing a real world data set from Kaggle showing the London Crimes from 2008 to 2016<a name=\"part1\"></a>\n"
        },
        {
            "cell_type": "markdown",
            "metadata": {},
            "source": "####  London Crime Data "
        },
        {
            "cell_type": "markdown",
            "metadata": {},
            "source": "About this file\n- lsoa_code: code for Lower Super Output Area in Greater London.\n- borough: Common name for London borough.\n- major_category: High level categorization of crime\n- minor_category: Low level categorization of crime within major category.\n- value: monthly reported count of categorical crime in given borough\n- year: Year of reported counts, 2008-2016\n- month: Month of reported counts, 1-12\n\nData set URL: https://www.kaggle.com/jboysen/london-crime"
        },
        {
            "cell_type": "markdown",
            "metadata": {},
            "source": "### Part 2: Scraping Additional Information from the wikipedia page about list of boroughs and local authorities<a name=\"part1\"></a>"
        },
        {
            "cell_type": "markdown",
            "metadata": {},
            "source": "####  Additional Information about list of borough and local authorities"
        },
        {
            "cell_type": "markdown",
            "metadata": {},
            "source": "About this dataset from website\n- Borough: Name of Borough.\n- Inner: It is inner to London or outer to london\n- Status: Is it a city or comes under royal patronage\n- Local authority: Under which local authority london borough comes.\n- Political control:Under which political party this borough comes under\n- Headquarter: Headquarter for the borough\n- Area: Area of borough in square meters\n- Population: Population of this borough\n- Coordinates: coordinates of this borough longitute and latitute\n- Nr in map: how many neighborhoods in map"
        },
        {
            "cell_type": "markdown",
            "metadata": {},
            "source": "### Part 3: Creating a new dataset of the Neighborhoods of the safest borough in London and generating their co-ordinates."
        },
        {
            "cell_type": "markdown",
            "metadata": {},
            "source": "#### Co-ordinates of neighborhood obtained using Google Maps API geocoding"
        },
        {
            "cell_type": "markdown",
            "metadata": {},
            "source": "About this dataset from website\n- Borough: Name of Borough.\n- Neighborhood: List of Neighborhoods for the borough\n- Longitude: Longitude of borough\n- Latitude: Latitude for borough."
        },
        {
            "cell_type": "code",
            "execution_count": null,
            "metadata": {},
            "outputs": [],
            "source": ""
        }
    ],
    "metadata": {
        "kernelspec": {
            "display_name": "Python 3.6",
            "language": "python",
            "name": "python3"
        },
        "language_info": {
            "codemirror_mode": {
                "name": "ipython",
                "version": 3
            },
            "file_extension": ".py",
            "mimetype": "text/x-python",
            "name": "python",
            "nbconvert_exporter": "python",
            "pygments_lexer": "ipython3",
            "version": "3.6.9"
        }
    },
    "nbformat": 4,
    "nbformat_minor": 1
}