{
    "cells": [
        {
            "cell_type": "markdown",
            "metadata": {
                "collapsed": true
            },
            "source": "# My Jupyter Notebook on IBM Data Science Experience"
        },
        {
            "cell_type": "markdown",
            "metadata": {},
            "source": "**Prabhat Ranjan**\n\nData Scientist"
        },
        {
            "cell_type": "markdown",
            "metadata": {},
            "source": "*I am interested in data science because I have keen interest towards Predictive analytics and use the predictive analytics to take corrective action and mitigate the risks and improve operational efficiencies.*"
        },
        {
            "cell_type": "markdown",
            "metadata": {},
            "source": "### To calculate the sum of 1 plus 1"
        },
        {
            "cell_type": "code",
            "execution_count": 3,
            "metadata": {},
            "outputs": [
                {
                    "data": {
                        "text/plain": "2"
                    },
                    "execution_count": 3,
                    "metadata": {},
                    "output_type": "execute_result"
                }
            ],
            "source": "1 + 1"
        },
        {
            "cell_type": "markdown",
            "metadata": {},
            "source": "1. Hello\n1. Everyone\n1. This\n1. is\n1. Prabhat"
        },
        {
            "cell_type": "markdown",
            "metadata": {},
            "source": "- This\n- is\n- Prabhat"
        },
        {
            "cell_type": "markdown",
            "metadata": {},
            "source": "__[Link to Google](https://www.google.com/)__"
        },
        {
            "cell_type": "markdown",
            "metadata": {},
            "source": "~~Prabhat Ranjan~~"
        },
        {
            "cell_type": "markdown",
            "metadata": {},
            "source": "> This is a blockquote from Prabhat Ranjan"
        },
        {
            "cell_type": "markdown",
            "metadata": {},
            "source": "| Student | Grade |\n| ------- | ----- |\n| Prabhat | 95    |\n| Ranjan  | 90    |"
        }
    ],
    "metadata": {
        "kernelspec": {
            "display_name": "Python 3.6",
            "language": "python",
            "name": "python3"
        },
        "language_info": {
            "codemirror_mode": {
                "name": "ipython",
                "version": 3
            },
            "file_extension": ".py",
            "mimetype": "text/x-python",
            "name": "python",
            "nbconvert_exporter": "python",
            "pygments_lexer": "ipython3",
            "version": "3.6.9"
        }
    },
    "nbformat": 4,
    "nbformat_minor": 1
}